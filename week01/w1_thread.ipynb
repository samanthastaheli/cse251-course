{
 "cells": [
  {
   "cell_type": "markdown",
   "metadata": {},
   "source": [
    "# Thread"
   ]
  },
  {
   "cell_type": "markdown",
   "metadata": {},
   "source": [
    "## create"
   ]
  },
  {
   "cell_type": "code",
   "execution_count": null,
   "metadata": {},
   "outputs": [],
   "source": []
  },
  {
   "cell_type": "markdown",
   "metadata": {},
   "source": [
    "## Create a Thread"
   ]
  },
  {
   "cell_type": "code",
   "execution_count": 1,
   "metadata": {},
   "outputs": [
    {
     "name": "stdout",
     "output_type": "stream",
     "text": [
      "Main    : before creating thread\n",
      "Main    : before running thread\n",
      "Thread \"Bob\": starting\n",
      "Main    : wait for the thread to finish\n",
      "Thread \"Bob\": finishing\n",
      "Main    : all done\n"
     ]
    }
   ],
   "source": [
    "import threading\n",
    "import time\n",
    "\n",
    "def thread_function(name):\n",
    "    \"\"\"This is the function the thread will run\"\"\"\n",
    "    print(f'Thread \"{name}\": starting')\n",
    "    time.sleep(2)\n",
    "    print(f'Thread \"{name}\": finishing')\n",
    "\n",
    "if __name__ == '__main__':\n",
    "    print('Main    : before creating thread')\n",
    "\n",
    "    t = threading.Thread(target=thread_function, args=('Bob',))\n",
    "\n",
    "    print('Main    : before running thread')\n",
    "    t.start()\n",
    "\n",
    "    print('Main    : wait for the thread to finish')\n",
    "    t.join()\n",
    "\n",
    "    print('Main    : all done')"
   ]
  }
 ],
 "metadata": {
  "interpreter": {
   "hash": "de9535f006a0634b9bf196f8949358539334682544f01afd5564e4c2ba45ce65"
  },
  "kernelspec": {
   "display_name": "Python 3.9.7 64-bit",
   "language": "python",
   "name": "python3"
  },
  "language_info": {
   "codemirror_mode": {
    "name": "ipython",
    "version": 3
   },
   "file_extension": ".py",
   "mimetype": "text/x-python",
   "name": "python",
   "nbconvert_exporter": "python",
   "pygments_lexer": "ipython3",
   "version": "3.9.7"
  },
  "orig_nbformat": 4
 },
 "nbformat": 4,
 "nbformat_minor": 2
}
